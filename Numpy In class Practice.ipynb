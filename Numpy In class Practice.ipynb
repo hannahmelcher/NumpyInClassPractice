{
 "cells": [
  {
   "cell_type": "markdown",
   "id": "b079616b",
   "metadata": {},
   "source": [
    "# Numpy- inclass assignment \n",
    "## Submit your work using GitHub to Moodle"
   ]
  },
  {
   "cell_type": "markdown",
   "id": "82127cdd",
   "metadata": {},
   "source": [
    "### Generate a random numpy array for Month of October where the highest temperature varies between 48-81 degree Farenheit\n",
    "- Keep in mind the length of the month\n",
    "- set a random seed of 1 for regenerate\n",
    "- Display the numpy array named `Temp_O` and find out the minimum and maximum temperature of month"
   ]
  },
  {
   "cell_type": "code",
   "execution_count": 14,
   "id": "d9294358",
   "metadata": {},
   "outputs": [],
   "source": [
    "import numpy as np\n",
    "np.random.seed(1)\n",
    "Temp_O=np.random.randint(48,81,31)"
   ]
  },
  {
   "cell_type": "code",
   "execution_count": 15,
   "id": "a43b0a51",
   "metadata": {},
   "outputs": [
    {
     "name": "stdout",
     "output_type": "stream",
     "text": [
      "[60 56 57 59 53 63 48 64 49 60 55 54 73 68 66 68 59 76 77 62 52 71 71 78\n",
      " 80 70 61 57 55 70 49]\n"
     ]
    }
   ],
   "source": [
    "print(Temp_O)"
   ]
  },
  {
   "cell_type": "markdown",
   "id": "9ce763ee",
   "metadata": {},
   "source": [
    "### Load the numpy file `Temp_December` and store it to a variable named Temp_D"
   ]
  },
  {
   "cell_type": "code",
   "execution_count": 16,
   "id": "c8504ed3",
   "metadata": {},
   "outputs": [],
   "source": [
    "Temp_D=np.load('Temp_December.npy')"
   ]
  },
  {
   "cell_type": "markdown",
   "id": "a9847e78",
   "metadata": {},
   "source": [
    "### Compare two numpy array - Temp_O and Temp_D\n",
    "- Elementwise\n",
    "- Arraywise"
   ]
  },
  {
   "cell_type": "code",
   "execution_count": 17,
   "id": "8ec7e2d6",
   "metadata": {},
   "outputs": [
    {
     "data": {
      "text/plain": [
       "array([ True,  True,  True,  True,  True,  True,  True,  True,  True,\n",
       "        True,  True,  True,  True,  True,  True,  True,  True,  True,\n",
       "        True,  True,  True,  True,  True,  True,  True,  True,  True,\n",
       "        True,  True,  True,  True])"
      ]
     },
     "execution_count": 17,
     "metadata": {},
     "output_type": "execute_result"
    }
   ],
   "source": [
    "Temp_O>Temp_D # Oct temp is more than Dec temp"
   ]
  },
  {
   "cell_type": "code",
   "execution_count": 18,
   "id": "929c54b0",
   "metadata": {},
   "outputs": [
    {
     "data": {
      "text/plain": [
       "array([False, False, False, False, False, False, False, False, False,\n",
       "       False, False, False, False, False, False, False, False, False,\n",
       "       False, False, False, False, False, False, False, False, False,\n",
       "       False, False, False, False])"
      ]
     },
     "execution_count": 18,
     "metadata": {},
     "output_type": "execute_result"
    }
   ],
   "source": [
    "Temp_O==Temp_D # none equal"
   ]
  },
  {
   "cell_type": "code",
   "execution_count": 19,
   "id": "3b46ad47",
   "metadata": {},
   "outputs": [
    {
     "data": {
      "text/plain": [
       "False"
      ]
     },
     "execution_count": 19,
     "metadata": {},
     "output_type": "execute_result"
    }
   ],
   "source": [
    "# array wise\n",
    "np.array_equal(Temp_O, Temp_D)"
   ]
  },
  {
   "cell_type": "markdown",
   "id": "0a88755c",
   "metadata": {},
   "source": [
    "### Find out the:\n",
    "- Average temperature\n",
    "- Standard deviation\n",
    "- Varience\n",
    "- Minimum temp\n",
    "- Maximum temp\n",
    "- Median\n",
    "#### for Month of December"
   ]
  },
  {
   "cell_type": "code",
   "execution_count": 21,
   "id": "6f8fa8b6",
   "metadata": {},
   "outputs": [
    {
     "name": "stdout",
     "output_type": "stream",
     "text": [
      "Mean temperature: 28\n",
      "Standard deviation: 15\n",
      "The variance:  220\n",
      "Minimum temperature:  7\n",
      "Maximum temperature:  57\n",
      "Median temperature:  25.0\n"
     ]
    }
   ],
   "source": [
    "print(\"Mean temperature:\", round(Temp_D.mean()))\n",
    "print(\"Standard deviation:\",round(Temp_D.std()))\n",
    "print(\"The variance: \", round(Temp_D.var()))\n",
    "print(\"Minimum temperature: \", Temp_D.min())\n",
    "print(\"Maximum temperature: \", Temp_D.max())\n",
    "print(\"Median temperature: \", np.median(Temp_D))"
   ]
  },
  {
   "cell_type": "markdown",
   "id": "a8bfea7e",
   "metadata": {},
   "source": [
    "### Plot the distribution of December Temperature using Matplotlib\n",
    "- add title and create proper labels"
   ]
  },
  {
   "cell_type": "code",
   "execution_count": 22,
   "id": "d69f2055",
   "metadata": {},
   "outputs": [],
   "source": [
    "import matplotlib.pyplot as plt "
   ]
  },
  {
   "cell_type": "code",
   "execution_count": 23,
   "id": "7bef9c5e",
   "metadata": {},
   "outputs": [
    {
     "data": {
      "image/png": "[encoded data removed]",
      "text/plain": [
       "<Figure size 640x480 with 1 Axes>"
      ]
     },
     "metadata": {},
     "output_type": "display_data"
    }
   ],
   "source": [
    "# histogram to plot the frequency \n",
    "plt.hist(Temp_D)\n",
    "plt.title(\"December Temperature Distribution\")\n",
    "plt.xlabel(\"Temperature (F)\")\n",
    "plt.ylabel(\"Frequency\")\n",
    "plt.show()"
   ]
  },
  {
   "cell_type": "markdown",
   "id": "4ac618ad",
   "metadata": {},
   "source": [
    "### Convert the Temp_D to Celsius and store it to a variable names Temp_C. \n",
    "- Round off the result\n",
    "- Save it to a numpy file called DecemberTemp_Celsius"
   ]
  },
  {
   "cell_type": "code",
   "execution_count": 24,
   "id": "5afdbbe0",
   "metadata": {},
   "outputs": [
    {
     "name": "stdout",
     "output_type": "stream",
     "text": [
      "[44 50 19 15 16 18 12 22  7 23  8 19 14 52 13 32 57 27 44 25 27 18 49 35\n",
      " 36 21 57 11 30 30 48]\n"
     ]
    }
   ],
   "source": [
    "print(Temp_D)"
   ]
  },
  {
   "cell_type": "code",
   "execution_count": 26,
   "id": "7819fcab",
   "metadata": {},
   "outputs": [],
   "source": [
    "Temp_C=np.round((Temp_D-32)*(5/9))"
   ]
  },
  {
   "cell_type": "code",
   "execution_count": 27,
   "id": "c1105039",
   "metadata": {},
   "outputs": [
    {
     "name": "stdout",
     "output_type": "stream",
     "text": [
      "[  7.  10.  -7.  -9.  -9.  -8. -11.  -6. -14.  -5. -13.  -7. -10.  11.\n",
      " -11.   0.  14.  -3.   7.  -4.  -3.  -8.   9.   2.   2.  -6.  14. -12.\n",
      "  -1.  -1.   9.]\n"
     ]
    }
   ],
   "source": [
    "print(Temp_C)"
   ]
  },
  {
   "cell_type": "code",
   "execution_count": 28,
   "id": "6a29a9d9",
   "metadata": {},
   "outputs": [],
   "source": [
    "np.save('DecemberTemp_Celsius.npy',Temp_C)"
   ]
  },
  {
   "cell_type": "code",
   "execution_count": 29,
   "id": "165b6b60",
   "metadata": {},
   "outputs": [
    {
     "name": "stdout",
     "output_type": "stream",
     "text": [
      "[  7.  10.  -7.  -9.  -9.  -8. -11.  -6. -14.  -5. -13.  -7. -10.  11.\n",
      " -11.   0.  14.  -3.   7.  -4.  -3.  -8.   9.   2.   2.  -6.  14. -12.\n",
      "  -1.  -1.   9.]\n"
     ]
    }
   ],
   "source": [
    "x1=np.load('DecemberTemp_Celsius.npy')\n",
    "print(x1)"
   ]
  }
 ],
 "metadata": {
  "kernelspec": {
   "display_name": "Python 3 (ipykernel)",
   "language": "python",
   "name": "python3"
  },
  "language_info": {
   "codemirror_mode": {
    "name": "ipython",
    "version": 3
   },
   "file_extension": ".py",
   "mimetype": "text/x-python",
   "name": "python",
   "nbconvert_exporter": "python",
   "pygments_lexer": "ipython3",
   "version": "3.9.13"
  }
 },
 "nbformat": 4,
 "nbformat_minor": 5
}
